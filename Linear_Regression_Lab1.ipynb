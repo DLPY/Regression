{
  "nbformat": 4,
  "nbformat_minor": 0,
  "metadata": {
    "colab": {
      "name": "Linear Regression Lab1.ipynb",
      "provenance": [],
      "include_colab_link": true
    },
    "kernelspec": {
      "name": "python3",
      "display_name": "Python 3"
    },
    "language_info": {
      "name": "python"
    }
  },
  "cells": [
    {
      "cell_type": "markdown",
      "metadata": {
        "id": "view-in-github",
        "colab_type": "text"
      },
      "source": [
        "<a href=\"https://colab.research.google.com/github/DLPY/Regression-Session-1/blob/master/Linear_Regression_Lab1.ipynb\" target=\"_parent\"><img src=\"https://colab.research.google.com/assets/colab-badge.svg\" alt=\"Open In Colab\"/></a>"
      ]
    },
    {
      "cell_type": "markdown",
      "metadata": {
        "id": "C5he_jAvzM_Q"
      },
      "source": [
        "## 1. Import Pandas, Pyplot and Read Data\n",
        "\n"
      ]
    },
    {
      "cell_type": "code",
      "metadata": {
        "id": "MDfXkCh2zD4v"
      },
      "source": [
        "import pandas as pd\n",
        "import matplotlib.pyplot as plt\n",
        "\n",
        "# CSV is first read in from a github raw file another option is to import the notebook to your session storage by click on the file icon on left toolbar then importing csv\n",
        "! wget https://raw.githubusercontent.com/DLPY/Regression-Session-1/master/Data/Salary.csv"
      ],
      "execution_count": null,
      "outputs": []
    },
    {
      "cell_type": "code",
      "metadata": {
        "id": "0tA2cpynEzLU"
      },
      "source": [
        "# Once we have the csv file pd.read_csv() converts it to a pandas dataframe\n",
        "df = pd.read_csv('Salary.csv')"
      ],
      "execution_count": null,
      "outputs": []
    },
    {
      "cell_type": "markdown",
      "metadata": {
        "id": "f6PdjJN_1UL_"
      },
      "source": [
        "## 2. Investigating the Data"
      ]
    },
    {
      "cell_type": "code",
      "metadata": {
        "id": "V-_nFB440D3R"
      },
      "source": [
        "# First five columns \n",
        "df.head()"
      ],
      "execution_count": null,
      "outputs": []
    },
    {
      "cell_type": "code",
      "metadata": {
        "id": "bIr-Mrth1eTz"
      },
      "source": [
        "# check types, nulls and counts\n",
        "df.info()"
      ],
      "execution_count": null,
      "outputs": []
    },
    {
      "cell_type": "code",
      "metadata": {
        "id": "GJz70t4T1eKT"
      },
      "source": [
        "# investigate the variability of the numeric columns\n",
        "df.describe()"
      ],
      "execution_count": null,
      "outputs": []
    },
    {
      "cell_type": "markdown",
      "metadata": {
        "id": "2bTXUaz83JHg"
      },
      "source": [
        "## 3. Split the dataset to prepare for training \n",
        "\n"
      ]
    },
    {
      "cell_type": "code",
      "metadata": {
        "id": "XRJG7vkk3s7i"
      },
      "source": [
        "# Independent Variable\n",
        "X = df.drop(['Salary'],axis=1).values\n",
        "\n",
        "# Depenedent Variable\n",
        "y = df.Salary.values\n",
        "\n",
        "# Split Observations in 80% training set 20% test set\n",
        "from sklearn.model_selection import train_test_split\n",
        "X_train, X_test, y_train, y_test = train_test_split(X, y, test_size = .2, random_state=21)\n"
      ],
      "execution_count": null,
      "outputs": []
    },
    {
      "cell_type": "markdown",
      "metadata": {
        "id": "o0yy8CIs4SCc"
      },
      "source": [
        "## 4. Train the model "
      ]
    },
    {
      "cell_type": "code",
      "metadata": {
        "id": "HOeJvm_q4XEM"
      },
      "source": [
        "from sklearn.linear_model import LinearRegression\n",
        "regressor = LinearRegression() \n",
        "regressor.fit(X_train, y_train)"
      ],
      "execution_count": null,
      "outputs": []
    },
    {
      "cell_type": "code",
      "metadata": {
        "id": "QQpTiUtlAYt8"
      },
      "source": [
        "# Coefficient and Intercept\n",
        "print(regressor.coef_)\n",
        "print(regressor.intercept_)"
      ],
      "execution_count": null,
      "outputs": []
    },
    {
      "cell_type": "markdown",
      "metadata": {
        "id": "FVzf-4we7QLm"
      },
      "source": [
        "## 5. Predict the test values and Caluclate Error"
      ]
    },
    {
      "cell_type": "code",
      "metadata": {
        "id": "kYgfy4T_7Yj9"
      },
      "source": [
        "from sklearn.metrics import mean_squared_error\n",
        "import numpy as np\n",
        "\n",
        "# Predict test set from model built during training \n",
        "y_pred = regressor.predict(X_test)\n",
        "y_pred\n"
      ],
      "execution_count": null,
      "outputs": []
    },
    {
      "cell_type": "code",
      "metadata": {
        "id": "9eysBGPTE721"
      },
      "source": [
        "# Mean Squared Error Average ((y_pred - y_test)^2)\n",
        "mse = mean_squared_error(y_pred, y_test)\n",
        "\n",
        "# Root Mean Squared Error - Root of above\n",
        "rmse = np.sqrt(mse)\n",
        "\n",
        "# Print Results\n",
        "print(\"Linear Regression MSE: {}\".format(mse))\n",
        "print(\"Linear Regression RMSE: {}\".format(rmse))\n",
        "\n",
        "from sklearn.metrics import r2_score\n",
        "rsquared = r2_score(y_pred, y_test)\n",
        "print(\"Coefficient of determination(r^2): {}\".format(rsquared))"
      ],
      "execution_count": null,
      "outputs": []
    },
    {
      "cell_type": "markdown",
      "metadata": {
        "id": "KZ-U61ir-5tM"
      },
      "source": [
        "# Visualise the Training Set "
      ]
    },
    {
      "cell_type": "code",
      "metadata": {
        "id": "LfeNxNzc-bUy"
      },
      "source": [
        "# Plot Real Points\n",
        "plt.scatter(X_train, y_train, color = 'red')\n",
        "# Plot Prediciton Line\n",
        "plt.plot(X_train, regressor.predict(X_train), color = 'blue')\n",
        "plt.title('Salary vs Experience (Training set)')\n",
        "plt.xlabel('Years of Experience')\n",
        "plt.ylabel('Salary')\n",
        "plt.show()"
      ],
      "execution_count": null,
      "outputs": []
    },
    {
      "cell_type": "markdown",
      "metadata": {
        "id": "CaRIKXt9_Cy-"
      },
      "source": [
        "## Visualise the Test set "
      ]
    },
    {
      "cell_type": "code",
      "metadata": {
        "id": "b6X4l-hM-_FY"
      },
      "source": [
        "# Plot Real Points\n",
        "plt.scatter(X_test, y_test, color = 'red')\n",
        "# Plot Prediction Line\n",
        "plt.plot(X_test, regressor.predict(X_test), color = 'blue')\n",
        "plt.title('Salary vs Experience (Training set)')\n",
        "plt.xlabel('Years of Experience')\n",
        "plt.ylabel('Salary')\n",
        "plt.show()"
      ],
      "execution_count": null,
      "outputs": []
    },
    {
      "cell_type": "code",
      "metadata": {
        "id": "hbv4INap41Xg"
      },
      "source": [
        "# Displaying Results and Difference in Table \n",
        "res = pd.DataFrame(y_pred, y_test)\n",
        "res = res.reset_index()\n",
        "res.columns = ['Salary', 'Prediction']\n",
        "res['Prediction'] = round(res['Prediction'],0)\n",
        "res['Difference'] = res['Salary'] - res['Prediction']\n",
        "res"
      ],
      "execution_count": null,
      "outputs": []
    }
  ]
}