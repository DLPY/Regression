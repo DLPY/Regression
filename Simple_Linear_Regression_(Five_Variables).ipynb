{
  "nbformat": 4,
  "nbformat_minor": 0,
  "metadata": {
    "colab": {
      "name": "Simple Linear Regression (Five Variables).ipynb",
      "provenance": [],
      "include_colab_link": true
    },
    "kernelspec": {
      "name": "python3",
      "display_name": "Python 3"
    },
    "language_info": {
      "name": "python"
    }
  },
  "cells": [
    {
      "cell_type": "markdown",
      "metadata": {
        "id": "view-in-github",
        "colab_type": "text"
      },
      "source": [
        "<a href=\"https://colab.research.google.com/github/DLPY/Regression-Session-1/blob/master/Simple_Linear_Regression_(Five_Variables).ipynb\" target=\"_parent\"><img src=\"https://colab.research.google.com/assets/colab-badge.svg\" alt=\"Open In Colab\"/></a>"
      ]
    },
    {
      "cell_type": "markdown",
      "metadata": {
        "id": "C5he_jAvzM_Q"
      },
      "source": [
        "## 1. Import Pandas, Pyplot and Read Data\n",
        "\n"
      ]
    },
    {
      "cell_type": "code",
      "metadata": {
        "id": "MDfXkCh2zD4v"
      },
      "source": [
        "import pandas as pd\n",
        "import matplotlib.pyplot as plt\n",
        "\n",
        "# CSV is first read in from a github raw file another option is to import the notebook to your session storage by click on the file icon on left toolbar then importing csv\n",
        "! wget https://raw.githubusercontent.com/DLPY/Regression-Session-1/master/Data/50_Startups.csv"
      ],
      "execution_count": null,
      "outputs": []
    },
    {
      "cell_type": "code",
      "metadata": {
        "id": "0tA2cpynEzLU"
      },
      "source": [
        "# Once we have the csv file pd.read_csv() converts it to a pandas dataframe\n",
        "df = pd.read_csv('50_Startups.csv')"
      ],
      "execution_count": null,
      "outputs": []
    },
    {
      "cell_type": "markdown",
      "metadata": {
        "id": "f6PdjJN_1UL_"
      },
      "source": [
        "## 2. Investigating the Data"
      ]
    },
    {
      "cell_type": "code",
      "metadata": {
        "id": "V-_nFB440D3R"
      },
      "source": [
        "# First five columns \n",
        "df.head()"
      ],
      "execution_count": null,
      "outputs": []
    },
    {
      "cell_type": "code",
      "metadata": {
        "id": "bIr-Mrth1eTz"
      },
      "source": [
        "# check types, nulls and counts\n",
        "df.info()"
      ],
      "execution_count": null,
      "outputs": []
    },
    {
      "cell_type": "code",
      "metadata": {
        "id": "GJz70t4T1eKT"
      },
      "source": [
        "# investigate the variability of the numeric columns\n",
        "df.describe()"
      ],
      "execution_count": null,
      "outputs": []
    },
    {
      "cell_type": "markdown",
      "metadata": {
        "id": "LlYdsLlf6Ktn"
      },
      "source": [
        "## 3. Encode Categorical Column (More on this in Session 2)"
      ]
    },
    {
      "cell_type": "code",
      "metadata": {
        "id": "4QFfEMiY6K4B"
      },
      "source": [
        "df = pd.get_dummies(df)"
      ],
      "execution_count": null,
      "outputs": []
    },
    {
      "cell_type": "code",
      "metadata": {
        "id": "wp7rBPB56-cY"
      },
      "source": [
        "df.head()"
      ],
      "execution_count": null,
      "outputs": []
    },
    {
      "cell_type": "markdown",
      "metadata": {
        "id": "2bTXUaz83JHg"
      },
      "source": [
        "## 4. Split the dataset to prepare for training \n",
        "\n",
        "---\n",
        "\n",
        "\n",
        "\n"
      ]
    },
    {
      "cell_type": "code",
      "metadata": {
        "id": "XRJG7vkk3s7i"
      },
      "source": [
        "# Independent Variable\n",
        "X = df.drop(['Profit'],axis=1).values\n",
        "\n",
        "# Depenedent Variable\n",
        "y = df.Profit.values\n",
        "\n",
        "# Split Observations in 75% training set 25% test set\n",
        "from sklearn.model_selection import train_test_split\n",
        "X_train, X_test, y_train, y_test = train_test_split(X, y, test_size = .2, random_state=21)\n"
      ],
      "execution_count": null,
      "outputs": []
    },
    {
      "cell_type": "markdown",
      "metadata": {
        "id": "o0yy8CIs4SCc"
      },
      "source": [
        "## 4. Train the model "
      ]
    },
    {
      "cell_type": "code",
      "metadata": {
        "id": "HOeJvm_q4XEM"
      },
      "source": [
        "from sklearn.linear_model import LinearRegression\n",
        "regressor = LinearRegression() \n",
        "regressor.fit(X_train, y_train)"
      ],
      "execution_count": null,
      "outputs": []
    },
    {
      "cell_type": "code",
      "metadata": {
        "id": "QQpTiUtlAYt8"
      },
      "source": [
        "# Coefficient and Intercept\n",
        "print(regressor.coef_)\n",
        "print(regressor.intercept_)"
      ],
      "execution_count": null,
      "outputs": []
    },
    {
      "cell_type": "markdown",
      "metadata": {
        "id": "FVzf-4we7QLm"
      },
      "source": [
        "## 5. Predict the test values and Caluclate Error"
      ]
    },
    {
      "cell_type": "code",
      "metadata": {
        "id": "kYgfy4T_7Yj9"
      },
      "source": [
        "from sklearn.metrics import mean_squared_error\n",
        "import numpy as np\n",
        "\n",
        "# Predict test set from model built during training \n",
        "y_pred = regressor.predict(X_test)\n",
        "y_pred\n"
      ],
      "execution_count": null,
      "outputs": []
    },
    {
      "cell_type": "code",
      "metadata": {
        "id": "9eysBGPTE721"
      },
      "source": [
        "# Mean Squared Error Average ((y_pred - y_test)^2)\n",
        "mse = mean_squared_error(y_pred, y_test)\n",
        "\n",
        "# Root Mean Squared Error - Root of above\n",
        "rmse = np.sqrt(mse)\n",
        "\n",
        "# Print Results\n",
        "print(\"Linear Regression MSE: {}\".format(mse))\n",
        "print(\"Linear Regression RMSE: {}\".format(rmse))\n",
        "\n",
        "from sklearn.metrics import r2_score\n",
        "rsquared = r2_score(y_pred, y_test)\n",
        "print(\"Coefficient of determination(r^2): {}\".format(rsquared))"
      ],
      "execution_count": null,
      "outputs": []
    },
    {
      "cell_type": "markdown",
      "metadata": {
        "id": "CaRIKXt9_Cy-"
      },
      "source": [
        "## Get a Prediction  \n"
      ]
    },
    {
      "cell_type": "code",
      "metadata": {
        "id": "1ku4I7nc6urO"
      },
      "source": [
        "# R&D / Marketing / Admin Spend : €200000 Based in New York\n",
        "\n",
        "regressor.predict([[200000,200000,200000,0,0,1]])"
      ],
      "execution_count": null,
      "outputs": []
    }
  ]
}