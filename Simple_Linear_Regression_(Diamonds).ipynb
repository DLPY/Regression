{
  "nbformat": 4,
  "nbformat_minor": 0,
  "metadata": {
    "colab": {
      "name": "Simple Linear Regression (Diamonds).ipynb",
      "private_outputs": true,
      "provenance": [],
      "collapsed_sections": [],
      "include_colab_link": true
    },
    "kernelspec": {
      "name": "python3",
      "display_name": "Python 3"
    },
    "language_info": {
      "name": "python"
    },
    "accelerator": "GPU"
  },
  "cells": [
    {
      "cell_type": "markdown",
      "metadata": {
        "id": "view-in-github",
        "colab_type": "text"
      },
      "source": [
        "<a href=\"https://colab.research.google.com/github/DLPY/Regression-Session-1/blob/master/Simple_Linear_Regression_(Diamonds).ipynb\" target=\"_parent\"><img src=\"https://colab.research.google.com/assets/colab-badge.svg\" alt=\"Open In Colab\"/></a>"
      ]
    },
    {
      "cell_type": "markdown",
      "metadata": {
        "id": "C5he_jAvzM_Q"
      },
      "source": [
        "## 1. Import Pandas, Pyplot and Read Data\n",
        "\n"
      ]
    },
    {
      "cell_type": "code",
      "metadata": {
        "id": "olx6o0tuRFVm"
      },
      "source": [
        "!pip install https://github.com/pandas-profiling/pandas-profiling/archive/master.zip"
      ],
      "execution_count": null,
      "outputs": []
    },
    {
      "cell_type": "code",
      "metadata": {
        "id": "MDfXkCh2zD4v"
      },
      "source": [
        "import pandas as pd\n",
        "import matplotlib.pyplot as plt\n",
        "from pandas_profiling import ProfileReport\n",
        "%matplotlib inline\n",
        "pd.set_option('display.max_colwidth', None)\n",
        "\n",
        "# CSV is first read in from a github raw file another option is to import the notebook to your session storage by click on the file icon on left toolbar then importing csv\n",
        "! wget https://raw.githubusercontent.com/DLPY/Regression-Session-1/master/Data/Diamonds.csv"
      ],
      "execution_count": null,
      "outputs": []
    },
    {
      "cell_type": "code",
      "metadata": {
        "id": "0tA2cpynEzLU"
      },
      "source": [
        "# Once we have the csv file pd.read_csv() converts it to a pandas dataframe\n",
        "# https://medium.com/swlh/exploratory-data-analysis-21bbf3887e28#:~:text=R%20diamond.csv%20dataset%20includes%20approximately%2054K%20observations%20with,messy%20data.%20Structure%20of%20the%20dataset%20%28R%20lang%29\n",
        "df = pd.read_csv('Diamonds.csv')"
      ],
      "execution_count": null,
      "outputs": []
    },
    {
      "cell_type": "markdown",
      "metadata": {
        "id": "f6PdjJN_1UL_"
      },
      "source": [
        "## 2. Investigating the Data"
      ]
    },
    {
      "cell_type": "code",
      "metadata": {
        "id": "V-_nFB440D3R"
      },
      "source": [
        "# First five columns \n",
        "df.head(5)"
      ],
      "execution_count": null,
      "outputs": []
    },
    {
      "cell_type": "markdown",
      "metadata": {
        "id": "sacCZGbDOUiw"
      },
      "source": [
        "# Diamonds Data Set\n",
        "## Overall a clean dataset with no missing values or messy data.\n",
        "### approximately 54K observations\n",
        "### 10 variables including:\n",
        "- carat - weight of the diamond ranging between 0.2-5.01\n",
        "- cut - the quality of the cut\n",
        "- 'Ideal': 1\n",
        "- 'Good': 2\n",
        "- 'Very Good': 3\n",
        "- 'Fair': 4\n",
        "- 'Premium': 5\n",
        "- color - diamond color   J (worst) to D (best)\n",
        "- 'E': 1\n",
        "- 'D': 2\n",
        "- 'F': 3\n",
        "- 'G': 4\n",
        "- 'H': 5\n",
        "- 'I': 6\n",
        "- 'J':7\n",
        "- clarity - measurement of how clear the diamond is: I1 (worst), SI2, SI1, VS2, VS1, VVS2, VVS1, IF (best)\n",
        "- 'VVS1': 1\n",
        "- 'IF': 2\n",
        "- 'VVS2': 3\n",
        "- 'VS1':4\n",
        "- 'I1':5\n",
        "- 'VS2':6\n",
        "- 'SI1':7\n",
        "- 'SI2':8\n",
        "- depth - total depth percentage ranging between 43-79\n",
        "- table - width of top of diamond relative to widest point ranging between 43-95\n",
        "- price - price in US dollars ranging between 326-18,823(USD)\n",
        "- x (length in mm)\n",
        "- y (width in mm)\n",
        "- z (depth in mm)\n"
      ]
    },
    {
      "cell_type": "code",
      "metadata": {
        "id": "bIr-Mrth1eTz"
      },
      "source": [
        "# check types, nulls and counts\n",
        "df.info()"
      ],
      "execution_count": null,
      "outputs": []
    },
    {
      "cell_type": "code",
      "metadata": {
        "id": "GJz70t4T1eKT"
      },
      "source": [
        "# investigate the variability of the numeric columns\n",
        "df.describe()"
      ],
      "execution_count": null,
      "outputs": []
    },
    {
      "cell_type": "markdown",
      "metadata": {
        "id": "hG6wXb4KO8Lt"
      },
      "source": [
        "## 3. Exploratory Data Analysis (EDA in Diamond Dataset):\n",
        "\n",
        "---"
      ]
    },
    {
      "cell_type": "code",
      "metadata": {
        "id": "2tz3KKg3Qseu"
      },
      "source": [
        "# Pandas profiling report\n",
        "profile = ProfileReport(df, title='Sydney House Prices Profiling Report', explorative=True)"
      ],
      "execution_count": null,
      "outputs": []
    },
    {
      "cell_type": "code",
      "metadata": {
        "id": "ARiCWwedUzBd"
      },
      "source": [
        "# for Jupyter exploration only\n",
        "profile.to_notebook_iframe()"
      ],
      "execution_count": null,
      "outputs": []
    },
    {
      "cell_type": "code",
      "metadata": {
        "id": "A8xQo0RMWJDy"
      },
      "source": [
        "# export analysis results to an html page, for sharing to a wider audience and non-Jupyter users.\n",
        "profile.to_file('SydneyHousePrices.html')"
      ],
      "execution_count": null,
      "outputs": []
    },
    {
      "cell_type": "markdown",
      "metadata": {
        "id": "2bTXUaz83JHg"
      },
      "source": [
        "## 4. Split the dataset to prepare for training \n",
        "\n",
        "---\n",
        "\n",
        "\n",
        "\n"
      ]
    },
    {
      "cell_type": "code",
      "metadata": {
        "id": "XRJG7vkk3s7i"
      },
      "source": [
        "# Independent Variable\n",
        "X = df.drop(['price'],axis=1).values\n",
        "\n",
        "# Depenedent Variable\n",
        "y = df.price.values\n",
        "\n",
        "# Split Observations in 75% training set 25% test set\n",
        "from sklearn.model_selection import train_test_split\n",
        "X_train, X_test, y_train, y_test = train_test_split(X, y, test_size=0.2, random_state=21)\n"
      ],
      "execution_count": null,
      "outputs": []
    },
    {
      "cell_type": "markdown",
      "metadata": {
        "id": "o0yy8CIs4SCc"
      },
      "source": [
        "## 5. Train the model "
      ]
    },
    {
      "cell_type": "code",
      "metadata": {
        "id": "ihzqk_jF88LB"
      },
      "source": [
        "import statsmodels.api as sm\n",
        "Regression = sm.OLS(endog=y, exog=X).fit()\n",
        "print(Regression.summary())"
      ],
      "execution_count": null,
      "outputs": []
    },
    {
      "cell_type": "code",
      "metadata": {
        "id": "HOeJvm_q4XEM"
      },
      "source": [
        "from sklearn.linear_model import LinearRegression\n",
        "regressor = LinearRegression() \n",
        "regressor.fit(X_train, y_train)"
      ],
      "execution_count": null,
      "outputs": []
    },
    {
      "cell_type": "code",
      "metadata": {
        "id": "QQpTiUtlAYt8"
      },
      "source": [
        "# Coefficient and Intercept\n",
        "print(regressor.coef_)\n",
        "print(regressor.intercept_)"
      ],
      "execution_count": null,
      "outputs": []
    },
    {
      "cell_type": "markdown",
      "metadata": {
        "id": "FVzf-4we7QLm"
      },
      "source": [
        "## 6. Predict the test values and Calculate Error"
      ]
    },
    {
      "cell_type": "code",
      "metadata": {
        "id": "kYgfy4T_7Yj9"
      },
      "source": [
        "from sklearn.metrics import mean_squared_error\n",
        "import numpy as np\n",
        "\n",
        "# Predict test set from model built during training \n",
        "y_pred = regressor.predict(X_test)"
      ],
      "execution_count": null,
      "outputs": []
    },
    {
      "cell_type": "code",
      "metadata": {
        "id": "9eysBGPTE721"
      },
      "source": [
        "# Mean Squared Error Average ((y_pred - y_test)^2)\n",
        "mse = mean_squared_error(y_pred, y_test)\n",
        "\n",
        "# Root Mean Squared Error - Root of above\n",
        "rmse = np.sqrt(mse)\n",
        "\n",
        "# Print Results\n",
        "print(\"Linear Regression MSE: {}\".format(mse))\n",
        "print(\"Linear Regression RMSE: {}\".format(rmse))\n",
        "\n",
        "from sklearn.metrics import r2_score\n",
        "rsquared = r2_score(y_pred, y_test)\n",
        "print(\"Coefficient of determination(r^2): {}\".format(rsquared))"
      ],
      "execution_count": null,
      "outputs": []
    },
    {
      "cell_type": "markdown",
      "metadata": {
        "id": "CaRIKXt9_Cy-"
      },
      "source": [
        "## 7. Visualise the Train and Test Set "
      ]
    },
    {
      "cell_type": "code",
      "metadata": {
        "id": "EJfk8cCvYekq"
      },
      "source": [
        "plt.style.use('ggplot')\n",
        "residual_train = y_train - regressor.predict(X_train) \n",
        "residual_test = y_test-regressor.predict(X_test)\n",
        "plt.scatter(residual_train, regressor.predict(X_train),\n",
        "            color='green', s=10, label='Train data')\n",
        "plt.scatter(residual_test,regressor.predict(X_test),\n",
        "            color='blue', s=10, label='Test data')\n",
        "plt.hlines(y=0, xmin=0, xmax=100, linewidth=5)\n",
        "plt.legend(loc='upper right')\n",
        "plt.title(\"Residual errors\")\n",
        "plt.rc('font', size=12)   \n",
        "plt.show()"
      ],
      "execution_count": null,
      "outputs": []
    }
  ]
}